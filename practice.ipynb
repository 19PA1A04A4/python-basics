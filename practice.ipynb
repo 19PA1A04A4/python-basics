{
  "nbformat": 4,
  "nbformat_minor": 0,
  "metadata": {
    "colab": {
      "name": "Untitled0.ipynb",
      "provenance": [],
      "authorship_tag": "ABX9TyMwU8ShzrU9/4kYqjnydLVY",
      "include_colab_link": true
    },
    "kernelspec": {
      "name": "python3",
      "display_name": "Python 3"
    }
  },
  "cells": [
    {
      "cell_type": "markdown",
      "metadata": {
        "id": "view-in-github",
        "colab_type": "text"
      },
      "source": [
        "<a href=\"https://colab.research.google.com/github/19PA1A04A4/python-basics/blob/master/practice.ipynb\" target=\"_parent\"><img src=\"https://colab.research.google.com/assets/colab-badge.svg\" alt=\"Open In Colab\"/></a>"
      ]
    },
    {
      "cell_type": "code",
      "metadata": {
        "id": "1HGIJ5c4bHMU",
        "colab_type": "code",
        "colab": {
          "base_uri": "https://localhost:8080/",
          "height": 357
        },
        "outputId": "5f9c57db-72cd-43ab-d275-ebf0c8f03800"
      },
      "source": [
        "import numpy as np\n",
        "a = np.arange(15).reshape(3,5)\n",
        "print(a.shape)\n",
        "a.ndim\n",
        "a.dtype\n",
        "a.itemsize\n",
        "a.size\n",
        "type(a)\n",
        "np.zeros((2,4))\n",
        "np.ones((3,4))\n",
        "np.empty((2,3))\n",
        "np.eye(4)\n",
        "np.full((2,3),7)\n",
        "np.random.random((2,3))\n",
        "a=np.array([20,30,40,50])\n",
        "b=np.array(4)\n",
        "print(a)\n",
        "print(b)\n",
        "c=a-b\n",
        "print(c)\n",
        "print(b**c)\n",
        "print(10*np.sin(a))\n",
        "print(a<35)\n",
        "a[0]+=10\n",
        "print(a)\n",
        "A = np.array([[1,1],[0,1]])\n",
        "B = np.array([[2,0],[3,4]])  \n",
        "print(A)\n",
        "print(B)\n",
        "print(A * B)\n",
        "print(A @ B)\n",
        "print(A.dot(B))\n",
        "print(np.dot(A,B))\n",
        "\n"
      ],
      "execution_count": 37,
      "outputs": [
        {
          "output_type": "stream",
          "text": [
            "(3, 5)\n",
            "[20 30 40 50]\n",
            "4\n",
            "[16 26 36 46]\n",
            "[      4294967296 4503599627370496                0                0]\n",
            "[ 9.12945251 -9.88031624  7.4511316  -2.62374854]\n",
            "[ True  True False False]\n",
            "[30 30 40 50]\n",
            "[[1 1]\n",
            " [0 1]]\n",
            "[[2 0]\n",
            " [3 4]]\n",
            "[[2 0]\n",
            " [0 4]]\n",
            "[[5 4]\n",
            " [3 4]]\n",
            "[[5 4]\n",
            " [3 4]]\n",
            "[[5 4]\n",
            " [3 4]]\n"
          ],
          "name": "stdout"
        }
      ]
    },
    {
      "cell_type": "code",
      "metadata": {
        "id": "lh8hbZhxpYfV",
        "colab_type": "code",
        "colab": {}
      },
      "source": [
        ""
      ],
      "execution_count": 0,
      "outputs": []
    },
    {
      "cell_type": "code",
      "metadata": {
        "id": "3b7NHiYYn3ut",
        "colab_type": "code",
        "colab": {
          "base_uri": "https://localhost:8080/",
          "height": 187
        },
        "outputId": "177d6a36-53c5-4d78-aa3b-43e53c5c8a2a"
      },
      "source": [
        "import numpy as np\n",
        "b=np.arange(12).reshape(3,4)\n",
        "print(b)\n",
        "print(b.sum())\n",
        "print(b.sum(axis=0))\n",
        "print(b.sum(axis=1))\n",
        "print(b.min(axis=1))\n",
        "print(b.cumsum(axis=1))"
      ],
      "execution_count": 38,
      "outputs": [
        {
          "output_type": "stream",
          "text": [
            "[[ 0  1  2  3]\n",
            " [ 4  5  6  7]\n",
            " [ 8  9 10 11]]\n",
            "66\n",
            "[12 15 18 21]\n",
            "[ 6 22 38]\n",
            "[0 4 8]\n",
            "[[ 0  1  3  6]\n",
            " [ 4  9 15 22]\n",
            " [ 8 17 27 38]]\n"
          ],
          "name": "stdout"
        }
      ]
    },
    {
      "cell_type": "code",
      "metadata": {
        "id": "L6d0tIZ0pzpU",
        "colab_type": "code",
        "colab": {
          "base_uri": "https://localhost:8080/",
          "height": 187
        },
        "outputId": "6988914a-91e7-4269-f6eb-51f9aaeb2b6d"
      },
      "source": [
        "import numpy as np\n",
        "a=np.arange(5)\n",
        "print(a)\n",
        "b=np.random.random(5)\n",
        "print(b)\n",
        "print(np.add(a,b))\n",
        "print(a+b)\n",
        "print(a-b)\n",
        "print(np.subtract(a,b))\n",
        "print(a*b)\n",
        "print(np.multiply(a,b))\n",
        "print(a/b)\n",
        "print(np.divide(a,b))"
      ],
      "execution_count": 43,
      "outputs": [
        {
          "output_type": "stream",
          "text": [
            "[0 1 2 3 4]\n",
            "[0.28540482 0.1456533  0.11745381 0.07301249 0.03158577]\n",
            "[0.28540482 1.1456533  2.11745381 3.07301249 4.03158577]\n",
            "[0.28540482 1.1456533  2.11745381 3.07301249 4.03158577]\n",
            "[-0.28540482  0.8543467   1.88254619  2.92698751  3.96841423]\n",
            "[-0.28540482  0.8543467   1.88254619  2.92698751  3.96841423]\n",
            "[0.         0.1456533  0.23490762 0.21903747 0.12634307]\n",
            "[0.         0.1456533  0.23490762 0.21903747 0.12634307]\n",
            "[  0.           6.86561861  17.02797045  41.08886121 126.63931842]\n",
            "[  0.           6.86561861  17.02797045  41.08886121 126.63931842]\n"
          ],
          "name": "stdout"
        }
      ]
    },
    {
      "cell_type": "code",
      "metadata": {
        "id": "w0KorFp1sPIV",
        "colab_type": "code",
        "colab": {
          "base_uri": "https://localhost:8080/",
          "height": 85
        },
        "outputId": "e2830559-2cb2-4900-8ca4-cb9753aaa497"
      },
      "source": [
        "import numpy as np\n",
        "a=np.arange(10)**3\n",
        "print(a)\n",
        "print(a[2])\n",
        "print(a[2:4])\n",
        "print(a[2:3])\n"
      ],
      "execution_count": 44,
      "outputs": [
        {
          "output_type": "stream",
          "text": [
            "[  0   1   8  27  64 125 216 343 512 729]\n",
            "8\n",
            "[ 8 27]\n",
            "[8]\n"
          ],
          "name": "stdout"
        }
      ]
    },
    {
      "cell_type": "code",
      "metadata": {
        "id": "CARTTG6wtcv9",
        "colab_type": "code",
        "colab": {
          "base_uri": "https://localhost:8080/",
          "height": 323
        },
        "outputId": "ca1e1036-18d3-41f9-a9a3-4eb086986e1b"
      },
      "source": [
        "import numpy as np\n",
        "a=np.arange(12).reshape(4,3)**2\n",
        "print(a)\n",
        "print(a[1:3])\n",
        "print(a[1:3,1:2])\n",
        "print(a[2,])\n",
        "print(a[:2],)\n",
        "print(a[:3,])\n",
        "print(a[:2,:3])\n",
        "print(a[:,2])\n",
        "print(a[2,:])"
      ],
      "execution_count": 47,
      "outputs": [
        {
          "output_type": "stream",
          "text": [
            "[[  0   1   4]\n",
            " [  9  16  25]\n",
            " [ 36  49  64]\n",
            " [ 81 100 121]]\n",
            "[[ 9 16 25]\n",
            " [36 49 64]]\n",
            "[[16]\n",
            " [49]]\n",
            "[36 49 64]\n",
            "[[ 0  1  4]\n",
            " [ 9 16 25]]\n",
            "[[ 0  1  4]\n",
            " [ 9 16 25]\n",
            " [36 49 64]]\n",
            "[[ 0  1  4]\n",
            " [ 9 16 25]]\n",
            "[  4  25  64 121]\n",
            "[36 49 64]\n"
          ],
          "name": "stdout"
        }
      ]
    },
    {
      "cell_type": "code",
      "metadata": {
        "id": "hMajvrGBvYME",
        "colab_type": "code",
        "colab": {
          "base_uri": "https://localhost:8080/",
          "height": 68
        },
        "outputId": "084d72a4-cda8-4c4f-e411-845b05f1bb04"
      },
      "source": [
        "import numpy as np\n",
        "a=np.floor(10*np.random.random((3,4)))\n",
        "print(a)"
      ],
      "execution_count": 52,
      "outputs": [
        {
          "output_type": "stream",
          "text": [
            "[[0. 2. 6. 5.]\n",
            " [4. 8. 1. 0.]\n",
            " [7. 8. 5. 0.]]\n"
          ],
          "name": "stdout"
        }
      ]
    },
    {
      "cell_type": "code",
      "metadata": {
        "id": "GscFnb4ztcuY",
        "colab_type": "code",
        "colab": {}
      },
      "source": [
        ""
      ],
      "execution_count": 0,
      "outputs": []
    }
  ]
}